{
  "nbformat": 4,
  "nbformat_minor": 0,
  "metadata": {
    "colab": {
      "provenance": [],
      "authorship_tag": "ABX9TyNBgn3WwOcAgok5Y+2TJz2t",
      "include_colab_link": true
    },
    "kernelspec": {
      "name": "python3",
      "display_name": "Python 3"
    },
    "language_info": {
      "name": "python"
    }
  },
  "cells": [
    {
      "cell_type": "markdown",
      "metadata": {
        "id": "view-in-github",
        "colab_type": "text"
      },
      "source": [
        "<a href=\"https://colab.research.google.com/github/Kayden335/Tarea-1/blob/main/Copy_of_Untitled0.ipynb\" target=\"_parent\"><img src=\"https://colab.research.google.com/assets/colab-badge.svg\" alt=\"Open In Colab\"/></a>"
      ]
    },
    {
      "cell_type": "markdown",
      "source": [
        "Primer ejerciocio de programación en Python"
      ],
      "metadata": {
        "id": "8YBEGoP65S9V"
      }
    },
    {
      "cell_type": "markdown",
      "source": [
        "1.-Hacer un \"Hola mundo sencillo\":"
      ],
      "metadata": {
        "id": "A1pAo5yQ5kd8"
      }
    },
    {
      "cell_type": "code",
      "source": [
        "print('Hola Mundo')"
      ],
      "metadata": {
        "colab": {
          "base_uri": "https://localhost:8080/"
        },
        "id": "5LT_Pczo5xPk",
        "outputId": "770618d1-908b-4a61-8cf4-3eeb1ff47a59"
      },
      "execution_count": null,
      "outputs": [
        {
          "output_type": "stream",
          "name": "stdout",
          "text": [
            "Hola Mundo\n"
          ]
        }
      ]
    },
    {
      "cell_type": "markdown",
      "source": [
        "2.-Operaciones aritméticas basicas:"
      ],
      "metadata": {
        "id": "FN15rqbA6WX0"
      }
    },
    {
      "cell_type": "code",
      "source": [
        "# En Python no es necesario definir el tipo de variable ya que el procesador lo lee directamente como un número entero\n",
        "x = 5\n",
        "y = 3\n",
        "z = x + y\n",
        "z"
      ],
      "metadata": {
        "colab": {
          "base_uri": "https://localhost:8080/"
        },
        "id": "y3jPHnDx6bek",
        "outputId": "3460984e-73c2-497e-bdc2-0c83947eacef"
      },
      "execution_count": null,
      "outputs": [
        {
          "output_type": "execute_result",
          "data": {
            "text/plain": [
              "8"
            ]
          },
          "metadata": {},
          "execution_count": 2
        }
      ]
    },
    {
      "cell_type": "code",
      "source": [
        "# En este caso la variable \"a\" no es del tipo de dato de 5 por ello no compila\n",
        "5 + 'a'"
      ],
      "metadata": {
        "colab": {
          "base_uri": "https://localhost:8080/",
          "height": 164
        },
        "id": "VrLX5CbD77r1",
        "outputId": "3d879437-deec-45a2-9ee4-5bc01e372177"
      },
      "execution_count": null,
      "outputs": [
        {
          "output_type": "error",
          "ename": "TypeError",
          "evalue": "unsupported operand type(s) for +: 'int' and 'str'",
          "traceback": [
            "\u001b[0;31m---------------------------------------------------------------------------\u001b[0m",
            "\u001b[0;31mTypeError\u001b[0m                                 Traceback (most recent call last)",
            "\u001b[0;32m/tmp/ipython-input-1674444719.py\u001b[0m in \u001b[0;36m<cell line: 0>\u001b[0;34m()\u001b[0m\n\u001b[1;32m      1\u001b[0m \u001b[0;31m# En este caso la variable \"a\" no es del tipo de dato de 5 por ello no compila\u001b[0m\u001b[0;34m\u001b[0m\u001b[0;34m\u001b[0m\u001b[0m\n\u001b[0;32m----> 2\u001b[0;31m \u001b[0;36m5\u001b[0m \u001b[0;34m+\u001b[0m \u001b[0;34m'a'\u001b[0m\u001b[0;34m\u001b[0m\u001b[0;34m\u001b[0m\u001b[0m\n\u001b[0m",
            "\u001b[0;31mTypeError\u001b[0m: unsupported operand type(s) for +: 'int' and 'str'"
          ]
        }
      ]
    },
    {
      "cell_type": "code",
      "source": [
        "# Se puede realizar sumas entre letras pero no resta porque no son variables tangibles\n",
        "'a'+'b'\n"
      ],
      "metadata": {
        "colab": {
          "base_uri": "https://localhost:8080/",
          "height": 36
        },
        "id": "bAfAPHKW8C9e",
        "outputId": "558c19ce-1f46-4aaa-83d9-8bde47511ac6"
      },
      "execution_count": null,
      "outputs": [
        {
          "output_type": "execute_result",
          "data": {
            "text/plain": [
              "'ab'"
            ],
            "application/vnd.google.colaboratory.intrinsic+json": {
              "type": "string"
            }
          },
          "metadata": {},
          "execution_count": 8
        }
      ]
    },
    {
      "cell_type": "code",
      "source": [
        "'a'-'b'"
      ],
      "metadata": {
        "colab": {
          "base_uri": "https://localhost:8080/",
          "height": 146
        },
        "id": "CcqfsPsM8tBk",
        "outputId": "ba30f866-b388-4c90-9be5-5a6f0b3590f6"
      },
      "execution_count": null,
      "outputs": [
        {
          "output_type": "error",
          "ename": "TypeError",
          "evalue": "unsupported operand type(s) for -: 'str' and 'str'",
          "traceback": [
            "\u001b[0;31m---------------------------------------------------------------------------\u001b[0m",
            "\u001b[0;31mTypeError\u001b[0m                                 Traceback (most recent call last)",
            "\u001b[0;32m/tmp/ipython-input-1842835516.py\u001b[0m in \u001b[0;36m<cell line: 0>\u001b[0;34m()\u001b[0m\n\u001b[0;32m----> 1\u001b[0;31m \u001b[0;34m'a'\u001b[0m\u001b[0;34m-\u001b[0m\u001b[0;34m'b'\u001b[0m\u001b[0;34m\u001b[0m\u001b[0;34m\u001b[0m\u001b[0m\n\u001b[0m",
            "\u001b[0;31mTypeError\u001b[0m: unsupported operand type(s) for -: 'str' and 'str'"
          ]
        }
      ]
    },
    {
      "cell_type": "code",
      "source": [
        "# No es necesario definir los numeros decimales\n",
        "5 + 5.1\n"
      ],
      "metadata": {
        "colab": {
          "base_uri": "https://localhost:8080/"
        },
        "id": "nEJL3Ja4-Af3",
        "outputId": "d39fa0fd-db01-43cf-e925-371086bc8d13"
      },
      "execution_count": null,
      "outputs": [
        {
          "output_type": "execute_result",
          "data": {
            "text/plain": [
              "10.1"
            ]
          },
          "metadata": {},
          "execution_count": 10
        }
      ]
    },
    {
      "cell_type": "code",
      "source": [
        "#Para cambiarle el valor a la variable se ingresa el comando input ()\n",
        "x = 2\n",
        "x"
      ],
      "metadata": {
        "colab": {
          "base_uri": "https://localhost:8080/"
        },
        "id": "CwDGUq9E-gXN",
        "outputId": "c51070e3-bd8c-4162-fc00-1c0bf7f8265a"
      },
      "execution_count": null,
      "outputs": [
        {
          "output_type": "execute_result",
          "data": {
            "text/plain": [
              "2"
            ]
          },
          "metadata": {},
          "execution_count": 16
        }
      ]
    },
    {
      "cell_type": "code",
      "source": [
        "x = input ()\n"
      ],
      "metadata": {
        "colab": {
          "base_uri": "https://localhost:8080/"
        },
        "id": "PybkmUIlB2h9",
        "outputId": "34c4e964-34ce-4908-bab8-950574920e02"
      },
      "execution_count": null,
      "outputs": [
        {
          "name": "stdout",
          "output_type": "stream",
          "text": [
            "3\n"
          ]
        }
      ]
    },
    {
      "cell_type": "code",
      "source": [
        "x"
      ],
      "metadata": {
        "colab": {
          "base_uri": "https://localhost:8080/",
          "height": 36
        },
        "id": "K-bu-TIUCItN",
        "outputId": "3f814f2e-9d95-4e69-cf76-26c0b49fcc0a"
      },
      "execution_count": null,
      "outputs": [
        {
          "output_type": "execute_result",
          "data": {
            "text/plain": [
              "'3'"
            ],
            "application/vnd.google.colaboratory.intrinsic+json": {
              "type": "string"
            }
          },
          "metadata": {},
          "execution_count": 22
        }
      ]
    },
    {
      "cell_type": "markdown",
      "source": [
        "3.-Estructuras de control \"for\" e \"if\" :"
      ],
      "metadata": {
        "id": "GS-iFeXMCyqU"
      }
    },
    {
      "cell_type": "code",
      "source": [
        "\n",
        "x = 3\n",
        "if x < 5 :\n",
        "  print('x es menor que 5')\n",
        "else :\n",
        "  print('x es mayor que 5')\n",
        "\n",
        "\n"
      ],
      "metadata": {
        "colab": {
          "base_uri": "https://localhost:8080/"
        },
        "id": "91D5mQgIEWpc",
        "outputId": "f05d6e17-686c-4509-8c40-ccfb5a559b69"
      },
      "execution_count": null,
      "outputs": [
        {
          "output_type": "stream",
          "name": "stdout",
          "text": [
            "x es menor que 5\n"
          ]
        }
      ]
    },
    {
      "cell_type": "code",
      "source": [
        "#El comando for ejecuta un bloque de código un número determinado de veces\n",
        "for i in range(10):\n",
        "  print(i)\n",
        "\n"
      ],
      "metadata": {
        "id": "CVjO4UH4Hzz8",
        "colab": {
          "base_uri": "https://localhost:8080/"
        },
        "outputId": "e6d3c203-4d5d-404f-d86d-503e3c83ac7b"
      },
      "execution_count": null,
      "outputs": [
        {
          "output_type": "stream",
          "name": "stdout",
          "text": [
            "0\n",
            "1\n",
            "2\n",
            "3\n",
            "4\n",
            "5\n",
            "6\n",
            "7\n",
            "8\n",
            "9\n"
          ]
        }
      ]
    },
    {
      "cell_type": "code",
      "source": [
        "for i in 'hola':\n",
        "  print(i)"
      ],
      "metadata": {
        "colab": {
          "base_uri": "https://localhost:8080/"
        },
        "id": "-JtLYcn0HM-2",
        "outputId": "4e86d550-a004-4b42-c5f0-f90255867775"
      },
      "execution_count": null,
      "outputs": [
        {
          "output_type": "stream",
          "name": "stdout",
          "text": [
            "h\n",
            "o\n",
            "l\n",
            "a\n"
          ]
        }
      ]
    },
    {
      "cell_type": "markdown",
      "source": [
        "4.- Método de las listas en Python"
      ],
      "metadata": {
        "id": "i_xLvKbPIfEU"
      }
    },
    {
      "cell_type": "code",
      "source": [
        "x = [1,2,3,4]\n",
        "for i in x:\n",
        "  print(i)"
      ],
      "metadata": {
        "colab": {
          "base_uri": "https://localhost:8080/"
        },
        "id": "069eKsyFI0m-",
        "outputId": "e6e959ef-681a-4c8d-ad6e-109567e0e42d"
      },
      "execution_count": null,
      "outputs": [
        {
          "output_type": "stream",
          "name": "stdout",
          "text": [
            "1\n",
            "2\n",
            "3\n",
            "4\n"
          ]
        }
      ]
    },
    {
      "cell_type": "code",
      "source": [
        "x.append(5)\n",
        "x\n"
      ],
      "metadata": {
        "colab": {
          "base_uri": "https://localhost:8080/"
        },
        "id": "fvb6mRpZKQQz",
        "outputId": "65aa80cc-ce41-4e72-bdc3-90e5a24ef184"
      },
      "execution_count": null,
      "outputs": [
        {
          "output_type": "execute_result",
          "data": {
            "text/plain": [
              "[2, 3, 4, 5, 5, 5, 5, 5, 5, 5, 5, 5, 5, 5, 5]"
            ]
          },
          "metadata": {},
          "execution_count": 27
        }
      ]
    },
    {
      "cell_type": "code",
      "source": [
        "for i in x:\n",
        "  print(i)"
      ],
      "metadata": {
        "colab": {
          "base_uri": "https://localhost:8080/"
        },
        "id": "zxF5uPe1KdvY",
        "outputId": "894acb12-3c82-4e46-cfe7-c65f42ebc709"
      },
      "execution_count": null,
      "outputs": [
        {
          "output_type": "stream",
          "name": "stdout",
          "text": [
            "2\n",
            "3\n",
            "4\n",
            "5\n",
            "5\n",
            "5\n",
            "5\n",
            "5\n",
            "5\n",
            "5\n",
            "5\n",
            "5\n",
            "5\n",
            "5\n",
            "5\n"
          ]
        }
      ]
    },
    {
      "cell_type": "markdown",
      "source": [
        "5.-Estructuras de Datos en Python"
      ],
      "metadata": {
        "id": "cXjVYVTsLadp"
      }
    },
    {
      "cell_type": "code",
      "source": [
        "# Crear diccionarios (objetos) que representan materias\n",
        "a = {'nombre': 'Introduction a SI', 'creditos': 3, 'aula': 583}\n",
        "b = {'nombre': 'poo', 'creditos': 4, 'aula': 585}\n",
        "\n",
        "# Agregar propiedad 'favorita' a cada diccionario\n",
        "a['favorita'] = True\n",
        "b['favorita'] = False\n",
        "\n",
        "# Crear lista que contiene los diccionarios\n",
        "x = [a, b]\n",
        "\n",
        "# Recorrer la lista e imprimir la propiedad 'favorita' de cada materia\n",
        "for i in x:\n",
        "    print(i['favorita'])\n",
        "\n"
      ],
      "metadata": {
        "colab": {
          "base_uri": "https://localhost:8080/"
        },
        "id": "n8gf2Kp5NhK2",
        "outputId": "1234d102-64a4-4e86-d263-02d415367459"
      },
      "execution_count": null,
      "outputs": [
        {
          "output_type": "stream",
          "name": "stdout",
          "text": [
            "True\n",
            "False\n"
          ]
        }
      ]
    }
  ]
}